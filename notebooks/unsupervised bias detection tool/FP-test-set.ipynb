{
 "cells": [
  {
   "cell_type": "code",
   "execution_count": 1,
   "metadata": {},
   "outputs": [],
   "source": [
    "import numpy as np\n",
    "import pandas as pd\n",
    "import matplotlib.pyplot as plt\n",
    "from scipy.stats import ttest_ind\n",
    "from sklearn.preprocessing import OrdinalEncoder\n",
    "from sklearn.model_selection import train_test_split\n",
    "from statsmodels.stats.proportion import proportions_ztest\n",
    "from unsupervised_bias_detection.cluster import BiasAwareHierarchicalKMeans"
   ]
  },
  {
   "cell_type": "markdown",
   "metadata": {},
   "source": [
    "#### A. Load data and data preparation"
   ]
  },
  {
   "cell_type": "markdown",
   "metadata": {},
   "source": [
    "##### A.1 Load data"
   ]
  },
  {
   "cell_type": "code",
   "execution_count": 2,
   "metadata": {},
   "outputs": [
    {
     "data": {
      "text/html": [
       "<div>\n",
       "<style scoped>\n",
       "    .dataframe tbody tr th:only-of-type {\n",
       "        vertical-align: middle;\n",
       "    }\n",
       "\n",
       "    .dataframe tbody tr th {\n",
       "        vertical-align: top;\n",
       "    }\n",
       "\n",
       "    .dataframe thead th {\n",
       "        text-align: right;\n",
       "    }\n",
       "</style>\n",
       "<table border=\"1\" class=\"dataframe\">\n",
       "  <thead>\n",
       "    <tr style=\"text-align: right;\">\n",
       "      <th></th>\n",
       "      <th>length</th>\n",
       "      <th>#URLs</th>\n",
       "      <th>#mentions</th>\n",
       "      <th>#hashs</th>\n",
       "      <th>verified</th>\n",
       "      <th>#followers</th>\n",
       "      <th>user_engagement</th>\n",
       "      <th>sentiment_score</th>\n",
       "      <th>FP</th>\n",
       "    </tr>\n",
       "  </thead>\n",
       "  <tbody>\n",
       "    <tr>\n",
       "      <th>0</th>\n",
       "      <td>84</td>\n",
       "      <td>2</td>\n",
       "      <td>0</td>\n",
       "      <td>1</td>\n",
       "      <td>1</td>\n",
       "      <td>1828600</td>\n",
       "      <td>102.622934</td>\n",
       "      <td>-0.4767</td>\n",
       "      <td>0</td>\n",
       "    </tr>\n",
       "    <tr>\n",
       "      <th>1</th>\n",
       "      <td>93</td>\n",
       "      <td>1</td>\n",
       "      <td>0</td>\n",
       "      <td>0</td>\n",
       "      <td>1</td>\n",
       "      <td>45988032</td>\n",
       "      <td>82.510668</td>\n",
       "      <td>0.0000</td>\n",
       "      <td>0</td>\n",
       "    </tr>\n",
       "    <tr>\n",
       "      <th>2</th>\n",
       "      <td>89</td>\n",
       "      <td>1</td>\n",
       "      <td>0</td>\n",
       "      <td>0</td>\n",
       "      <td>1</td>\n",
       "      <td>16023476</td>\n",
       "      <td>155.112226</td>\n",
       "      <td>0.0000</td>\n",
       "      <td>0</td>\n",
       "    </tr>\n",
       "    <tr>\n",
       "      <th>3</th>\n",
       "      <td>80</td>\n",
       "      <td>1</td>\n",
       "      <td>0</td>\n",
       "      <td>0</td>\n",
       "      <td>1</td>\n",
       "      <td>3629813</td>\n",
       "      <td>601.280035</td>\n",
       "      <td>-0.6486</td>\n",
       "      <td>0</td>\n",
       "    </tr>\n",
       "    <tr>\n",
       "      <th>4</th>\n",
       "      <td>87</td>\n",
       "      <td>0</td>\n",
       "      <td>0</td>\n",
       "      <td>0</td>\n",
       "      <td>0</td>\n",
       "      <td>3479057</td>\n",
       "      <td>253.795131</td>\n",
       "      <td>0.0000</td>\n",
       "      <td>0</td>\n",
       "    </tr>\n",
       "  </tbody>\n",
       "</table>\n",
       "</div>"
      ],
      "text/plain": [
       "   length  #URLs  #mentions  #hashs  verified  #followers  user_engagement  \\\n",
       "0      84      2          0       1         1     1828600       102.622934   \n",
       "1      93      1          0       0         1    45988032        82.510668   \n",
       "2      89      1          0       0         1    16023476       155.112226   \n",
       "3      80      1          0       0         1     3629813       601.280035   \n",
       "4      87      0          0       0         0     3479057       253.795131   \n",
       "\n",
       "   sentiment_score  FP  \n",
       "0          -0.4767   0  \n",
       "1           0.0000   0  \n",
       "2           0.0000   0  \n",
       "3          -0.6486   0  \n",
       "4           0.0000   0  "
      ]
     },
     "execution_count": 2,
     "metadata": {},
     "output_type": "execute_result"
    }
   ],
   "source": [
    "# Load the COMPAS dataset\n",
    "file_path = \"./FP-test-set.csv\"\n",
    "df = pd.read_csv(file_path, delimiter=';')\n",
    "\n",
    "# Display the first few rows of the dataset\n",
    "df.head()"
   ]
  },
  {
   "cell_type": "markdown",
   "metadata": {},
   "source": [
    "##### A.2 Data cleaning"
   ]
  },
  {
   "cell_type": "code",
   "execution_count": 3,
   "metadata": {},
   "outputs": [
    {
     "name": "stdout",
     "output_type": "stream",
     "text": [
      "length             0\n",
      "#URLs              0\n",
      "#mentions          0\n",
      "#hashs             0\n",
      "verified           0\n",
      "#followers         0\n",
      "user_engagement    0\n",
      "sentiment_score    0\n",
      "FP                 0\n",
      "dtype: int64\n"
     ]
    }
   ],
   "source": [
    "# Check for missing values\n",
    "print(df.isnull().sum())"
   ]
  },
  {
   "cell_type": "markdown",
   "metadata": {},
   "source": [
    "**UI text #1** (only demo)\n",
    "\n",
    "**Information about demo dataset**\n",
    "\n",
    "...\n"
   ]
  },
  {
   "cell_type": "markdown",
   "metadata": {},
   "source": [
    "**UI text #2**\n",
    "\n",
    "In this example, we analyze which group is most adversely affected by the risk prediction algorithm. We do this by applying the clustering algorithm on the dataset previewed below. A preview of the data can be found below. The column `false_positive` is used as the `bias score`.\n",
    "\n",
    "**0. Preview of data**\n",
    "\n",
    "[below table with top-5 rows]"
   ]
  },
  {
   "cell_type": "code",
   "execution_count": 4,
   "metadata": {},
   "outputs": [
    {
     "data": {
      "text/html": [
       "<div>\n",
       "<style scoped>\n",
       "    .dataframe tbody tr th:only-of-type {\n",
       "        vertical-align: middle;\n",
       "    }\n",
       "\n",
       "    .dataframe tbody tr th {\n",
       "        vertical-align: top;\n",
       "    }\n",
       "\n",
       "    .dataframe thead th {\n",
       "        text-align: right;\n",
       "    }\n",
       "</style>\n",
       "<table border=\"1\" class=\"dataframe\">\n",
       "  <thead>\n",
       "    <tr style=\"text-align: right;\">\n",
       "      <th></th>\n",
       "      <th>length</th>\n",
       "      <th>#URLs</th>\n",
       "      <th>#mentions</th>\n",
       "      <th>#hashs</th>\n",
       "      <th>verified</th>\n",
       "      <th>#followers</th>\n",
       "      <th>user_engagement</th>\n",
       "      <th>sentiment_score</th>\n",
       "      <th>FP</th>\n",
       "    </tr>\n",
       "  </thead>\n",
       "  <tbody>\n",
       "    <tr>\n",
       "      <th>0</th>\n",
       "      <td>84</td>\n",
       "      <td>2</td>\n",
       "      <td>0</td>\n",
       "      <td>1</td>\n",
       "      <td>1</td>\n",
       "      <td>1828600</td>\n",
       "      <td>102.622934</td>\n",
       "      <td>-0.4767</td>\n",
       "      <td>0</td>\n",
       "    </tr>\n",
       "    <tr>\n",
       "      <th>1</th>\n",
       "      <td>93</td>\n",
       "      <td>1</td>\n",
       "      <td>0</td>\n",
       "      <td>0</td>\n",
       "      <td>1</td>\n",
       "      <td>45988032</td>\n",
       "      <td>82.510668</td>\n",
       "      <td>0.0000</td>\n",
       "      <td>0</td>\n",
       "    </tr>\n",
       "    <tr>\n",
       "      <th>2</th>\n",
       "      <td>89</td>\n",
       "      <td>1</td>\n",
       "      <td>0</td>\n",
       "      <td>0</td>\n",
       "      <td>1</td>\n",
       "      <td>16023476</td>\n",
       "      <td>155.112226</td>\n",
       "      <td>0.0000</td>\n",
       "      <td>0</td>\n",
       "    </tr>\n",
       "    <tr>\n",
       "      <th>3</th>\n",
       "      <td>80</td>\n",
       "      <td>1</td>\n",
       "      <td>0</td>\n",
       "      <td>0</td>\n",
       "      <td>1</td>\n",
       "      <td>3629813</td>\n",
       "      <td>601.280035</td>\n",
       "      <td>-0.6486</td>\n",
       "      <td>0</td>\n",
       "    </tr>\n",
       "    <tr>\n",
       "      <th>4</th>\n",
       "      <td>87</td>\n",
       "      <td>0</td>\n",
       "      <td>0</td>\n",
       "      <td>0</td>\n",
       "      <td>0</td>\n",
       "      <td>3479057</td>\n",
       "      <td>253.795131</td>\n",
       "      <td>0.0000</td>\n",
       "      <td>0</td>\n",
       "    </tr>\n",
       "  </tbody>\n",
       "</table>\n",
       "</div>"
      ],
      "text/plain": [
       "   length  #URLs  #mentions  #hashs  verified  #followers  user_engagement  \\\n",
       "0      84      2          0       1         1     1828600       102.622934   \n",
       "1      93      1          0       0         1    45988032        82.510668   \n",
       "2      89      1          0       0         1    16023476       155.112226   \n",
       "3      80      1          0       0         1     3629813       601.280035   \n",
       "4      87      0          0       0         0     3479057       253.795131   \n",
       "\n",
       "   sentiment_score  FP  \n",
       "0          -0.4767   0  \n",
       "1           0.0000   0  \n",
       "2           0.0000   0  \n",
       "3          -0.6486   0  \n",
       "4           0.0000   0  "
      ]
     },
     "execution_count": 4,
     "metadata": {},
     "output_type": "execute_result"
    }
   ],
   "source": [
    "filtered_df = df\n",
    "filtered_df.head()"
   ]
  },
  {
   "cell_type": "code",
   "execution_count": 5,
   "metadata": {},
   "outputs": [
    {
     "data": {
      "text/plain": [
       "length             float64\n",
       "#URLs              float64\n",
       "#mentions          float64\n",
       "#hashs             float64\n",
       "verified           float64\n",
       "#followers         float64\n",
       "user_engagement    float64\n",
       "sentiment_score    float64\n",
       "FP                   int64\n",
       "dtype: object"
      ]
     },
     "execution_count": 5,
     "metadata": {},
     "output_type": "execute_result"
    }
   ],
   "source": [
    "# Convert all columns except 'FP' to float64, and 'FP' to int\n",
    "filtered_df = filtered_df.astype({col: 'float64' for col in filtered_df.columns if col != 'FP'})\n",
    "filtered_df['FP'] = filtered_df['FP'].astype(int)\n",
    "filtered_df.dtypes"
   ]
  },
  {
   "cell_type": "code",
   "execution_count": 6,
   "metadata": {},
   "outputs": [
    {
     "name": "stdout",
     "output_type": "stream",
     "text": [
      "consistent data\n"
     ]
    }
   ],
   "source": [
    "# Create a dataframe from filtered_df except the bias metric column\n",
    "bias_score = \"FP\"\n",
    "df_no_bias_score = filtered_df.drop(columns=[bias_score])\n",
    "if df_no_bias_score.dtypes.nunique() == 1:\n",
    "    print('consistent data')\n",
    "else:\n",
    "    print('not all columns in the provided dataset have the same data type')"
   ]
  },
  {
   "cell_type": "markdown",
   "metadata": {},
   "source": [
    "##### A.3 Explanatory data analysis"
   ]
  },
  {
   "cell_type": "code",
   "execution_count": 7,
   "metadata": {},
   "outputs": [
    {
     "name": "stdout",
     "output_type": "stream",
     "text": [
      "(413, 9)\n"
     ]
    }
   ],
   "source": [
    "# for this notebook only\n",
    "dim = filtered_df.shape\n",
    "print(dim)\n",
    "n = dim[0]"
   ]
  },
  {
   "cell_type": "code",
   "execution_count": 8,
   "metadata": {},
   "outputs": [
    {
     "data": {
      "text/plain": [
       "FP\n",
       "0    394\n",
       "1     19\n",
       "Name: count, dtype: int64"
      ]
     },
     "execution_count": 8,
     "metadata": {},
     "output_type": "execute_result"
    }
   ],
   "source": [
    "filtered_df[bias_score].value_counts()"
   ]
  },
  {
   "cell_type": "markdown",
   "metadata": {},
   "source": [
    "**UI text #3**\n",
    "\n",
    "**1. Paramters selected for clustering**\n",
    "\n",
    "- Number of iterations: {n_iter}\n",
    "- Minimal cluster size: {n_iter}\n",
    "- Bias score: {bias_score}"
   ]
  },
  {
   "cell_type": "markdown",
   "metadata": {},
   "source": [
    "#### B. Split dataset in train and test set\n",
    "\n",
    "Only multiply by -1 if \"Lower value of bias metric is better\" box in web app is ticked, becuase HBAC implementation in the package assumes that higher `y` is better."
   ]
  },
  {
   "cell_type": "code",
   "execution_count": 9,
   "metadata": {},
   "outputs": [
    {
     "name": "stdout",
     "output_type": "stream",
     "text": [
      "Training set shape: (330, 9)\n",
      "Testing set shape: (83, 9)\n"
     ]
    }
   ],
   "source": [
    "# split the data into training and testing sets\n",
    "train_df, test_df = train_test_split(filtered_df, test_size=0.2, random_state=42)\n",
    "X_train = train_df.drop(columns=[bias_score])\n",
    "\n",
    "# bias metric is negated because HBAC implementation in the package assumes that higher bias metric is better\n",
    "y_train = train_df[bias_score] * -1\n",
    "\n",
    "# remove the bias metric from the test set to prevent issues with decoding later\n",
    "X_test = test_df.drop(columns=[bias_score])\n",
    "\n",
    "# display the shapes of the resulting datasets\n",
    "print(f\"Training set shape: {train_df.shape}\")\n",
    "print(f\"Testing set shape: {test_df.shape}\")"
   ]
  },
  {
   "cell_type": "markdown",
   "metadata": {},
   "source": [
    "**UI text #4**\n",
    "\n",
    "**2. Splitting dataset**\n",
    "\n",
    "To reduce the possibility that the clustering method detects noise, the dataset is split in a train (80%) and test dataset (20%). The clustering method is first fitted on the train dataset. Then, the presence of statistically significant bias in deviating clusters is evaluated using the test dataset.\n",
    "\n",
    "- Training set shape: {train_df.shape[0]}\n",
    "- Testing set shape: {test_df.shape[0]}"
   ]
  },
  {
   "cell_type": "markdown",
   "metadata": {},
   "source": [
    "#### C. Fitting HBAC - kmodes"
   ]
  },
  {
   "cell_type": "code",
   "execution_count": 10,
   "metadata": {},
   "outputs": [
    {
     "name": "stderr",
     "output_type": "stream",
     "text": [
      "/opt/homebrew/lib/python3.11/site-packages/sklearn/utils/validation.py:2732: UserWarning: X has feature names, but BiasAwareHierarchicalClustering was fitted without feature names\n",
      "  warnings.warn(\n"
     ]
    },
    {
     "data": {
      "text/html": [
       "<style>#sk-container-id-1 {\n",
       "  /* Definition of color scheme common for light and dark mode */\n",
       "  --sklearn-color-text: #000;\n",
       "  --sklearn-color-text-muted: #666;\n",
       "  --sklearn-color-line: gray;\n",
       "  /* Definition of color scheme for unfitted estimators */\n",
       "  --sklearn-color-unfitted-level-0: #fff5e6;\n",
       "  --sklearn-color-unfitted-level-1: #f6e4d2;\n",
       "  --sklearn-color-unfitted-level-2: #ffe0b3;\n",
       "  --sklearn-color-unfitted-level-3: chocolate;\n",
       "  /* Definition of color scheme for fitted estimators */\n",
       "  --sklearn-color-fitted-level-0: #f0f8ff;\n",
       "  --sklearn-color-fitted-level-1: #d4ebff;\n",
       "  --sklearn-color-fitted-level-2: #b3dbfd;\n",
       "  --sklearn-color-fitted-level-3: cornflowerblue;\n",
       "\n",
       "  /* Specific color for light theme */\n",
       "  --sklearn-color-text-on-default-background: var(--sg-text-color, var(--theme-code-foreground, var(--jp-content-font-color1, black)));\n",
       "  --sklearn-color-background: var(--sg-background-color, var(--theme-background, var(--jp-layout-color0, white)));\n",
       "  --sklearn-color-border-box: var(--sg-text-color, var(--theme-code-foreground, var(--jp-content-font-color1, black)));\n",
       "  --sklearn-color-icon: #696969;\n",
       "\n",
       "  @media (prefers-color-scheme: dark) {\n",
       "    /* Redefinition of color scheme for dark theme */\n",
       "    --sklearn-color-text-on-default-background: var(--sg-text-color, var(--theme-code-foreground, var(--jp-content-font-color1, white)));\n",
       "    --sklearn-color-background: var(--sg-background-color, var(--theme-background, var(--jp-layout-color0, #111)));\n",
       "    --sklearn-color-border-box: var(--sg-text-color, var(--theme-code-foreground, var(--jp-content-font-color1, white)));\n",
       "    --sklearn-color-icon: #878787;\n",
       "  }\n",
       "}\n",
       "\n",
       "#sk-container-id-1 {\n",
       "  color: var(--sklearn-color-text);\n",
       "}\n",
       "\n",
       "#sk-container-id-1 pre {\n",
       "  padding: 0;\n",
       "}\n",
       "\n",
       "#sk-container-id-1 input.sk-hidden--visually {\n",
       "  border: 0;\n",
       "  clip: rect(1px 1px 1px 1px);\n",
       "  clip: rect(1px, 1px, 1px, 1px);\n",
       "  height: 1px;\n",
       "  margin: -1px;\n",
       "  overflow: hidden;\n",
       "  padding: 0;\n",
       "  position: absolute;\n",
       "  width: 1px;\n",
       "}\n",
       "\n",
       "#sk-container-id-1 div.sk-dashed-wrapped {\n",
       "  border: 1px dashed var(--sklearn-color-line);\n",
       "  margin: 0 0.4em 0.5em 0.4em;\n",
       "  box-sizing: border-box;\n",
       "  padding-bottom: 0.4em;\n",
       "  background-color: var(--sklearn-color-background);\n",
       "}\n",
       "\n",
       "#sk-container-id-1 div.sk-container {\n",
       "  /* jupyter's `normalize.less` sets `[hidden] { display: none; }`\n",
       "     but bootstrap.min.css set `[hidden] { display: none !important; }`\n",
       "     so we also need the `!important` here to be able to override the\n",
       "     default hidden behavior on the sphinx rendered scikit-learn.org.\n",
       "     See: https://github.com/scikit-learn/scikit-learn/issues/21755 */\n",
       "  display: inline-block !important;\n",
       "  position: relative;\n",
       "}\n",
       "\n",
       "#sk-container-id-1 div.sk-text-repr-fallback {\n",
       "  display: none;\n",
       "}\n",
       "\n",
       "div.sk-parallel-item,\n",
       "div.sk-serial,\n",
       "div.sk-item {\n",
       "  /* draw centered vertical line to link estimators */\n",
       "  background-image: linear-gradient(var(--sklearn-color-text-on-default-background), var(--sklearn-color-text-on-default-background));\n",
       "  background-size: 2px 100%;\n",
       "  background-repeat: no-repeat;\n",
       "  background-position: center center;\n",
       "}\n",
       "\n",
       "/* Parallel-specific style estimator block */\n",
       "\n",
       "#sk-container-id-1 div.sk-parallel-item::after {\n",
       "  content: \"\";\n",
       "  width: 100%;\n",
       "  border-bottom: 2px solid var(--sklearn-color-text-on-default-background);\n",
       "  flex-grow: 1;\n",
       "}\n",
       "\n",
       "#sk-container-id-1 div.sk-parallel {\n",
       "  display: flex;\n",
       "  align-items: stretch;\n",
       "  justify-content: center;\n",
       "  background-color: var(--sklearn-color-background);\n",
       "  position: relative;\n",
       "}\n",
       "\n",
       "#sk-container-id-1 div.sk-parallel-item {\n",
       "  display: flex;\n",
       "  flex-direction: column;\n",
       "}\n",
       "\n",
       "#sk-container-id-1 div.sk-parallel-item:first-child::after {\n",
       "  align-self: flex-end;\n",
       "  width: 50%;\n",
       "}\n",
       "\n",
       "#sk-container-id-1 div.sk-parallel-item:last-child::after {\n",
       "  align-self: flex-start;\n",
       "  width: 50%;\n",
       "}\n",
       "\n",
       "#sk-container-id-1 div.sk-parallel-item:only-child::after {\n",
       "  width: 0;\n",
       "}\n",
       "\n",
       "/* Serial-specific style estimator block */\n",
       "\n",
       "#sk-container-id-1 div.sk-serial {\n",
       "  display: flex;\n",
       "  flex-direction: column;\n",
       "  align-items: center;\n",
       "  background-color: var(--sklearn-color-background);\n",
       "  padding-right: 1em;\n",
       "  padding-left: 1em;\n",
       "}\n",
       "\n",
       "\n",
       "/* Toggleable style: style used for estimator/Pipeline/ColumnTransformer box that is\n",
       "clickable and can be expanded/collapsed.\n",
       "- Pipeline and ColumnTransformer use this feature and define the default style\n",
       "- Estimators will overwrite some part of the style using the `sk-estimator` class\n",
       "*/\n",
       "\n",
       "/* Pipeline and ColumnTransformer style (default) */\n",
       "\n",
       "#sk-container-id-1 div.sk-toggleable {\n",
       "  /* Default theme specific background. It is overwritten whether we have a\n",
       "  specific estimator or a Pipeline/ColumnTransformer */\n",
       "  background-color: var(--sklearn-color-background);\n",
       "}\n",
       "\n",
       "/* Toggleable label */\n",
       "#sk-container-id-1 label.sk-toggleable__label {\n",
       "  cursor: pointer;\n",
       "  display: flex;\n",
       "  width: 100%;\n",
       "  margin-bottom: 0;\n",
       "  padding: 0.5em;\n",
       "  box-sizing: border-box;\n",
       "  text-align: center;\n",
       "  align-items: start;\n",
       "  justify-content: space-between;\n",
       "  gap: 0.5em;\n",
       "}\n",
       "\n",
       "#sk-container-id-1 label.sk-toggleable__label .caption {\n",
       "  font-size: 0.6rem;\n",
       "  font-weight: lighter;\n",
       "  color: var(--sklearn-color-text-muted);\n",
       "}\n",
       "\n",
       "#sk-container-id-1 label.sk-toggleable__label-arrow:before {\n",
       "  /* Arrow on the left of the label */\n",
       "  content: \"▸\";\n",
       "  float: left;\n",
       "  margin-right: 0.25em;\n",
       "  color: var(--sklearn-color-icon);\n",
       "}\n",
       "\n",
       "#sk-container-id-1 label.sk-toggleable__label-arrow:hover:before {\n",
       "  color: var(--sklearn-color-text);\n",
       "}\n",
       "\n",
       "/* Toggleable content - dropdown */\n",
       "\n",
       "#sk-container-id-1 div.sk-toggleable__content {\n",
       "  max-height: 0;\n",
       "  max-width: 0;\n",
       "  overflow: hidden;\n",
       "  text-align: left;\n",
       "  /* unfitted */\n",
       "  background-color: var(--sklearn-color-unfitted-level-0);\n",
       "}\n",
       "\n",
       "#sk-container-id-1 div.sk-toggleable__content.fitted {\n",
       "  /* fitted */\n",
       "  background-color: var(--sklearn-color-fitted-level-0);\n",
       "}\n",
       "\n",
       "#sk-container-id-1 div.sk-toggleable__content pre {\n",
       "  margin: 0.2em;\n",
       "  border-radius: 0.25em;\n",
       "  color: var(--sklearn-color-text);\n",
       "  /* unfitted */\n",
       "  background-color: var(--sklearn-color-unfitted-level-0);\n",
       "}\n",
       "\n",
       "#sk-container-id-1 div.sk-toggleable__content.fitted pre {\n",
       "  /* unfitted */\n",
       "  background-color: var(--sklearn-color-fitted-level-0);\n",
       "}\n",
       "\n",
       "#sk-container-id-1 input.sk-toggleable__control:checked~div.sk-toggleable__content {\n",
       "  /* Expand drop-down */\n",
       "  max-height: 200px;\n",
       "  max-width: 100%;\n",
       "  overflow: auto;\n",
       "}\n",
       "\n",
       "#sk-container-id-1 input.sk-toggleable__control:checked~label.sk-toggleable__label-arrow:before {\n",
       "  content: \"▾\";\n",
       "}\n",
       "\n",
       "/* Pipeline/ColumnTransformer-specific style */\n",
       "\n",
       "#sk-container-id-1 div.sk-label input.sk-toggleable__control:checked~label.sk-toggleable__label {\n",
       "  color: var(--sklearn-color-text);\n",
       "  background-color: var(--sklearn-color-unfitted-level-2);\n",
       "}\n",
       "\n",
       "#sk-container-id-1 div.sk-label.fitted input.sk-toggleable__control:checked~label.sk-toggleable__label {\n",
       "  background-color: var(--sklearn-color-fitted-level-2);\n",
       "}\n",
       "\n",
       "/* Estimator-specific style */\n",
       "\n",
       "/* Colorize estimator box */\n",
       "#sk-container-id-1 div.sk-estimator input.sk-toggleable__control:checked~label.sk-toggleable__label {\n",
       "  /* unfitted */\n",
       "  background-color: var(--sklearn-color-unfitted-level-2);\n",
       "}\n",
       "\n",
       "#sk-container-id-1 div.sk-estimator.fitted input.sk-toggleable__control:checked~label.sk-toggleable__label {\n",
       "  /* fitted */\n",
       "  background-color: var(--sklearn-color-fitted-level-2);\n",
       "}\n",
       "\n",
       "#sk-container-id-1 div.sk-label label.sk-toggleable__label,\n",
       "#sk-container-id-1 div.sk-label label {\n",
       "  /* The background is the default theme color */\n",
       "  color: var(--sklearn-color-text-on-default-background);\n",
       "}\n",
       "\n",
       "/* On hover, darken the color of the background */\n",
       "#sk-container-id-1 div.sk-label:hover label.sk-toggleable__label {\n",
       "  color: var(--sklearn-color-text);\n",
       "  background-color: var(--sklearn-color-unfitted-level-2);\n",
       "}\n",
       "\n",
       "/* Label box, darken color on hover, fitted */\n",
       "#sk-container-id-1 div.sk-label.fitted:hover label.sk-toggleable__label.fitted {\n",
       "  color: var(--sklearn-color-text);\n",
       "  background-color: var(--sklearn-color-fitted-level-2);\n",
       "}\n",
       "\n",
       "/* Estimator label */\n",
       "\n",
       "#sk-container-id-1 div.sk-label label {\n",
       "  font-family: monospace;\n",
       "  font-weight: bold;\n",
       "  display: inline-block;\n",
       "  line-height: 1.2em;\n",
       "}\n",
       "\n",
       "#sk-container-id-1 div.sk-label-container {\n",
       "  text-align: center;\n",
       "}\n",
       "\n",
       "/* Estimator-specific */\n",
       "#sk-container-id-1 div.sk-estimator {\n",
       "  font-family: monospace;\n",
       "  border: 1px dotted var(--sklearn-color-border-box);\n",
       "  border-radius: 0.25em;\n",
       "  box-sizing: border-box;\n",
       "  margin-bottom: 0.5em;\n",
       "  /* unfitted */\n",
       "  background-color: var(--sklearn-color-unfitted-level-0);\n",
       "}\n",
       "\n",
       "#sk-container-id-1 div.sk-estimator.fitted {\n",
       "  /* fitted */\n",
       "  background-color: var(--sklearn-color-fitted-level-0);\n",
       "}\n",
       "\n",
       "/* on hover */\n",
       "#sk-container-id-1 div.sk-estimator:hover {\n",
       "  /* unfitted */\n",
       "  background-color: var(--sklearn-color-unfitted-level-2);\n",
       "}\n",
       "\n",
       "#sk-container-id-1 div.sk-estimator.fitted:hover {\n",
       "  /* fitted */\n",
       "  background-color: var(--sklearn-color-fitted-level-2);\n",
       "}\n",
       "\n",
       "/* Specification for estimator info (e.g. \"i\" and \"?\") */\n",
       "\n",
       "/* Common style for \"i\" and \"?\" */\n",
       "\n",
       ".sk-estimator-doc-link,\n",
       "a:link.sk-estimator-doc-link,\n",
       "a:visited.sk-estimator-doc-link {\n",
       "  float: right;\n",
       "  font-size: smaller;\n",
       "  line-height: 1em;\n",
       "  font-family: monospace;\n",
       "  background-color: var(--sklearn-color-background);\n",
       "  border-radius: 1em;\n",
       "  height: 1em;\n",
       "  width: 1em;\n",
       "  text-decoration: none !important;\n",
       "  margin-left: 0.5em;\n",
       "  text-align: center;\n",
       "  /* unfitted */\n",
       "  border: var(--sklearn-color-unfitted-level-1) 1pt solid;\n",
       "  color: var(--sklearn-color-unfitted-level-1);\n",
       "}\n",
       "\n",
       ".sk-estimator-doc-link.fitted,\n",
       "a:link.sk-estimator-doc-link.fitted,\n",
       "a:visited.sk-estimator-doc-link.fitted {\n",
       "  /* fitted */\n",
       "  border: var(--sklearn-color-fitted-level-1) 1pt solid;\n",
       "  color: var(--sklearn-color-fitted-level-1);\n",
       "}\n",
       "\n",
       "/* On hover */\n",
       "div.sk-estimator:hover .sk-estimator-doc-link:hover,\n",
       ".sk-estimator-doc-link:hover,\n",
       "div.sk-label-container:hover .sk-estimator-doc-link:hover,\n",
       ".sk-estimator-doc-link:hover {\n",
       "  /* unfitted */\n",
       "  background-color: var(--sklearn-color-unfitted-level-3);\n",
       "  color: var(--sklearn-color-background);\n",
       "  text-decoration: none;\n",
       "}\n",
       "\n",
       "div.sk-estimator.fitted:hover .sk-estimator-doc-link.fitted:hover,\n",
       ".sk-estimator-doc-link.fitted:hover,\n",
       "div.sk-label-container:hover .sk-estimator-doc-link.fitted:hover,\n",
       ".sk-estimator-doc-link.fitted:hover {\n",
       "  /* fitted */\n",
       "  background-color: var(--sklearn-color-fitted-level-3);\n",
       "  color: var(--sklearn-color-background);\n",
       "  text-decoration: none;\n",
       "}\n",
       "\n",
       "/* Span, style for the box shown on hovering the info icon */\n",
       ".sk-estimator-doc-link span {\n",
       "  display: none;\n",
       "  z-index: 9999;\n",
       "  position: relative;\n",
       "  font-weight: normal;\n",
       "  right: .2ex;\n",
       "  padding: .5ex;\n",
       "  margin: .5ex;\n",
       "  width: min-content;\n",
       "  min-width: 20ex;\n",
       "  max-width: 50ex;\n",
       "  color: var(--sklearn-color-text);\n",
       "  box-shadow: 2pt 2pt 4pt #999;\n",
       "  /* unfitted */\n",
       "  background: var(--sklearn-color-unfitted-level-0);\n",
       "  border: .5pt solid var(--sklearn-color-unfitted-level-3);\n",
       "}\n",
       "\n",
       ".sk-estimator-doc-link.fitted span {\n",
       "  /* fitted */\n",
       "  background: var(--sklearn-color-fitted-level-0);\n",
       "  border: var(--sklearn-color-fitted-level-3);\n",
       "}\n",
       "\n",
       ".sk-estimator-doc-link:hover span {\n",
       "  display: block;\n",
       "}\n",
       "\n",
       "/* \"?\"-specific style due to the `<a>` HTML tag */\n",
       "\n",
       "#sk-container-id-1 a.estimator_doc_link {\n",
       "  float: right;\n",
       "  font-size: 1rem;\n",
       "  line-height: 1em;\n",
       "  font-family: monospace;\n",
       "  background-color: var(--sklearn-color-background);\n",
       "  border-radius: 1rem;\n",
       "  height: 1rem;\n",
       "  width: 1rem;\n",
       "  text-decoration: none;\n",
       "  /* unfitted */\n",
       "  color: var(--sklearn-color-unfitted-level-1);\n",
       "  border: var(--sklearn-color-unfitted-level-1) 1pt solid;\n",
       "}\n",
       "\n",
       "#sk-container-id-1 a.estimator_doc_link.fitted {\n",
       "  /* fitted */\n",
       "  border: var(--sklearn-color-fitted-level-1) 1pt solid;\n",
       "  color: var(--sklearn-color-fitted-level-1);\n",
       "}\n",
       "\n",
       "/* On hover */\n",
       "#sk-container-id-1 a.estimator_doc_link:hover {\n",
       "  /* unfitted */\n",
       "  background-color: var(--sklearn-color-unfitted-level-3);\n",
       "  color: var(--sklearn-color-background);\n",
       "  text-decoration: none;\n",
       "}\n",
       "\n",
       "#sk-container-id-1 a.estimator_doc_link.fitted:hover {\n",
       "  /* fitted */\n",
       "  background-color: var(--sklearn-color-fitted-level-3);\n",
       "}\n",
       "</style><div id=\"sk-container-id-1\" class=\"sk-top-container\"><div class=\"sk-text-repr-fallback\"><pre>BiasAwareHierarchicalKMeans(bahc_max_iter=10, bahc_min_cluster_size=10)</pre><b>In a Jupyter environment, please rerun this cell to show the HTML representation or trust the notebook. <br />On GitHub, the HTML representation is unable to render, please try loading this page with nbviewer.org.</b></div><div class=\"sk-container\" hidden><div class=\"sk-item\"><div class=\"sk-estimator fitted sk-toggleable\"><input class=\"sk-toggleable__control sk-hidden--visually\" id=\"sk-estimator-id-1\" type=\"checkbox\" checked><label for=\"sk-estimator-id-1\" class=\"sk-toggleable__label fitted sk-toggleable__label-arrow\"><div><div>BiasAwareHierarchicalKMeans</div></div><div><span class=\"sk-estimator-doc-link fitted\">i<span>Fitted</span></span></div></label><div class=\"sk-toggleable__content fitted\"><pre>BiasAwareHierarchicalKMeans(bahc_max_iter=10, bahc_min_cluster_size=10)</pre></div> </div></div></div></div>"
      ],
      "text/plain": [
       "BiasAwareHierarchicalKMeans(bahc_max_iter=10, bahc_min_cluster_size=10)"
      ]
     },
     "execution_count": 10,
     "metadata": {},
     "output_type": "execute_result"
    }
   ],
   "source": [
    "# n_iter (here: 10 times) and min_cluster (10 training dataset) can be specified by the user in the web app\n",
    "hbac = BiasAwareHierarchicalKMeans(bahc_max_iter=10, bahc_min_cluster_size=10)\n",
    "hbac.fit(X_train, y_train)"
   ]
  },
  {
   "cell_type": "code",
   "execution_count": 11,
   "metadata": {},
   "outputs": [
    {
     "data": {
      "text/plain": [
       "2"
      ]
     },
     "execution_count": 11,
     "metadata": {},
     "output_type": "execute_result"
    }
   ],
   "source": [
    "# number of clusters\n",
    "hbac.n_clusters_"
   ]
  },
  {
   "cell_type": "code",
   "execution_count": 12,
   "metadata": {},
   "outputs": [
    {
     "data": {
      "text/plain": [
       "array([ 0.04100946, -0.04100946])"
      ]
     },
     "execution_count": 12,
     "metadata": {},
     "output_type": "execute_result"
    }
   ],
   "source": [
    "# bias metric scores\n",
    "hbac.scores_"
   ]
  },
  {
   "cell_type": "code",
   "execution_count": 13,
   "metadata": {},
   "outputs": [
    {
     "name": "stdout",
     "output_type": "stream",
     "text": [
      "Number of datapoints in cluster 0: 317/330\n"
     ]
    }
   ],
   "source": [
    "# number of datapoints is cluster, user can specify cluster label (here cluster_label=0)\n",
    "cluster_label = 0 # specified by user\n",
    "n_cluster = np.sum(hbac.labels_ == cluster_label)\n",
    "print(f\"Number of datapoints in cluster {cluster_label}: {n_cluster}/{train_df.shape[0]}\")"
   ]
  },
  {
   "cell_type": "markdown",
   "metadata": {},
   "source": [
    "**UI text #5**\n",
    "\n",
    "**3. Clustering results**\n",
    "\n",
    "- Number of clusters detected: {hbac.n_clusters_}\n",
    "- Number of datapoints in cluster with most bias: {n_most_bias}/{train_df.shape[0]}"
   ]
  },
  {
   "cell_type": "code",
   "execution_count": 14,
   "metadata": {},
   "outputs": [
    {
     "data": {
      "text/plain": [
       "array([0, 0, 0, 0, 0, 0, 0, 0, 1, 0, 0, 0, 0, 0, 0, 0, 0, 0, 0, 0, 0, 0,\n",
       "       0, 0, 0, 1, 0, 0, 0, 0, 0, 1, 0, 0, 0, 0, 0, 0, 0, 0, 0, 0, 0, 0,\n",
       "       0, 0, 0, 0, 0, 0, 0, 0, 0, 0, 0, 0, 0, 0, 0, 0, 0, 0, 0, 0, 0, 0,\n",
       "       0, 1, 0, 0, 0, 0, 0, 0, 0, 0, 1, 0, 0, 0, 0, 0, 0], dtype=uint32)"
      ]
     },
     "execution_count": 14,
     "metadata": {},
     "output_type": "execute_result"
    }
   ],
   "source": [
    "# assign cluster label to the test set, based on results from the training set\n",
    "y_test = hbac.predict(X_test.to_numpy())\n",
    "y_test"
   ]
  },
  {
   "cell_type": "markdown",
   "metadata": {},
   "source": [
    "#### D. Assigning cluster labels to test set"
   ]
  },
  {
   "cell_type": "code",
   "execution_count": 15,
   "metadata": {},
   "outputs": [
    {
     "data": {
      "text/html": [
       "<div>\n",
       "<style scoped>\n",
       "    .dataframe tbody tr th:only-of-type {\n",
       "        vertical-align: middle;\n",
       "    }\n",
       "\n",
       "    .dataframe tbody tr th {\n",
       "        vertical-align: top;\n",
       "    }\n",
       "\n",
       "    .dataframe thead th {\n",
       "        text-align: right;\n",
       "    }\n",
       "</style>\n",
       "<table border=\"1\" class=\"dataframe\">\n",
       "  <thead>\n",
       "    <tr style=\"text-align: right;\">\n",
       "      <th></th>\n",
       "      <th>length</th>\n",
       "      <th>#URLs</th>\n",
       "      <th>#mentions</th>\n",
       "      <th>#hashs</th>\n",
       "      <th>verified</th>\n",
       "      <th>#followers</th>\n",
       "      <th>user_engagement</th>\n",
       "      <th>sentiment_score</th>\n",
       "      <th>FP</th>\n",
       "      <th>cluster_label</th>\n",
       "    </tr>\n",
       "  </thead>\n",
       "  <tbody>\n",
       "    <tr>\n",
       "      <th>394</th>\n",
       "      <td>94.0</td>\n",
       "      <td>1.0</td>\n",
       "      <td>1.0</td>\n",
       "      <td>1.0</td>\n",
       "      <td>1.0</td>\n",
       "      <td>1004803.0</td>\n",
       "      <td>32.646837</td>\n",
       "      <td>0.3724</td>\n",
       "      <td>0</td>\n",
       "      <td>0</td>\n",
       "    </tr>\n",
       "    <tr>\n",
       "      <th>349</th>\n",
       "      <td>54.0</td>\n",
       "      <td>1.0</td>\n",
       "      <td>0.0</td>\n",
       "      <td>0.0</td>\n",
       "      <td>0.0</td>\n",
       "      <td>205.0</td>\n",
       "      <td>0.012082</td>\n",
       "      <td>-0.9246</td>\n",
       "      <td>0</td>\n",
       "      <td>0</td>\n",
       "    </tr>\n",
       "    <tr>\n",
       "      <th>400</th>\n",
       "      <td>119.0</td>\n",
       "      <td>1.0</td>\n",
       "      <td>0.0</td>\n",
       "      <td>0.0</td>\n",
       "      <td>0.0</td>\n",
       "      <td>8568.0</td>\n",
       "      <td>19.950813</td>\n",
       "      <td>-0.4404</td>\n",
       "      <td>0</td>\n",
       "      <td>0</td>\n",
       "    </tr>\n",
       "    <tr>\n",
       "      <th>353</th>\n",
       "      <td>103.0</td>\n",
       "      <td>1.0</td>\n",
       "      <td>1.0</td>\n",
       "      <td>0.0</td>\n",
       "      <td>1.0</td>\n",
       "      <td>20738.0</td>\n",
       "      <td>41.745414</td>\n",
       "      <td>-0.8979</td>\n",
       "      <td>0</td>\n",
       "      <td>0</td>\n",
       "    </tr>\n",
       "    <tr>\n",
       "      <th>181</th>\n",
       "      <td>119.0</td>\n",
       "      <td>1.0</td>\n",
       "      <td>0.0</td>\n",
       "      <td>0.0</td>\n",
       "      <td>1.0</td>\n",
       "      <td>15880382.0</td>\n",
       "      <td>62.613488</td>\n",
       "      <td>0.0000</td>\n",
       "      <td>0</td>\n",
       "      <td>0</td>\n",
       "    </tr>\n",
       "  </tbody>\n",
       "</table>\n",
       "</div>"
      ],
      "text/plain": [
       "     length  #URLs  #mentions  #hashs  verified  #followers  user_engagement  \\\n",
       "394    94.0    1.0        1.0     1.0       1.0   1004803.0        32.646837   \n",
       "349    54.0    1.0        0.0     0.0       0.0       205.0         0.012082   \n",
       "400   119.0    1.0        0.0     0.0       0.0      8568.0        19.950813   \n",
       "353   103.0    1.0        1.0     0.0       1.0     20738.0        41.745414   \n",
       "181   119.0    1.0        0.0     0.0       1.0  15880382.0        62.613488   \n",
       "\n",
       "     sentiment_score  FP  cluster_label  \n",
       "394           0.3724   0              0  \n",
       "349          -0.9246   0              0  \n",
       "400          -0.4404   0              0  \n",
       "353          -0.8979   0              0  \n",
       "181           0.0000   0              0  "
      ]
     },
     "execution_count": 15,
     "metadata": {},
     "output_type": "execute_result"
    }
   ],
   "source": [
    "test_df[\"cluster_label\"] = y_test\n",
    "test_df.head()"
   ]
  },
  {
   "cell_type": "markdown",
   "metadata": {},
   "source": [
    "#### E. Testing differences in bias metric\n",
    "\n",
    "- $H_0$: no difference in bias between the most deviating cluster and the rest of the dataset\n",
    "- $H_1$: difference in bias between the most deviating cluster and the rest of the dataset\n",
    "\n",
    "A two-sided t-test is performed to accept or reject $H_0$."
   ]
  },
  {
   "cell_type": "code",
   "execution_count": 16,
   "metadata": {},
   "outputs": [],
   "source": [
    "# Filter test_df to only include rows with the most biased cluster label\n",
    "most_biased_cluster_df = test_df[test_df[\"cluster_label\"] == 0]\n",
    "rest_df = test_df[test_df[\"cluster_label\"] != 0]"
   ]
  },
  {
   "cell_type": "code",
   "execution_count": 17,
   "metadata": {},
   "outputs": [
    {
     "name": "stdout",
     "output_type": "stream",
     "text": [
      "T-statistic: 0.6376727264232777\n",
      "p-value: 0.5254852599559459\n",
      "No significant difference in average bias metric between the most biased cluster and the rest of the dataset.\n"
     ]
    }
   ],
   "source": [
    "# Convert score_text to numeric\n",
    "bias_score_most_biased = pd.to_numeric(most_biased_cluster_df[bias_score])\n",
    "bias_score_rest = pd.to_numeric(rest_df[bias_score])\n",
    "\n",
    "# Perform independent two-sample t-test (two-sided: average bias metric in most_biased_cluster_df ≠ average bias metric in rest_df)\n",
    "t_stat, p_val = ttest_ind(bias_score_most_biased, bias_score_rest, alternative='two-sided')\n",
    "\n",
    "print(f\"T-statistic: {t_stat}\")\n",
    "print(f\"p-value: {p_val}\")\n",
    "\n",
    "if p_val < 0.05:\n",
    "    print(\"The most biased cluster has a significantly higher average bias metric than the rest of the dataset.\")\n",
    "else:\n",
    "    print(\"No significant difference in average bias metric between the most biased cluster and the rest of the dataset.\")"
   ]
  },
  {
   "cell_type": "markdown",
   "metadata": {},
   "source": [
    "**UI text #7**\n",
    "\n",
    "[if p<0.05] The most biased cluster has a significantly higher average bias metric compared to the rest of the dataset. Use the figures below to examine the characteristics of this cluster. [4. Visualization should be shown]\n",
    "\n",
    "[if p≥0.05] There is no significant difference in the average bias metric between the most biased cluster and the rest of the dataset. There is no evidence that certain groups are more frequently associated with the bias metric than others. [4. Visualization shouldn't be shown]"
   ]
  },
  {
   "cell_type": "markdown",
   "metadata": {},
   "source": [
    "**4. Visualization**\n",
    "\n",
    "[if p<0.05]\n",
    "\n",
    "**UI text #8**\n",
    "\n",
    "Below the characteristics most biased cluster (label 0) are shown. "
   ]
  },
  {
   "cell_type": "code",
   "execution_count": 18,
   "metadata": {},
   "outputs": [
    {
     "data": {
      "image/png": "[encoded data removed]",
      "text/plain": [
       "<Figure size 1200x1600 with 8 Axes>"
      ]
     },
     "metadata": {},
     "output_type": "display_data"
    }
   ],
   "source": [
    "# Calculate mean per cluster for each variable\n",
    "means = test_df.groupby(\"cluster_label\").mean()\n",
    "\n",
    "# Calculate overall mean for each variable (excluding cluster_label)\n",
    "variables = X_test.columns.tolist()\n",
    "overall_means = test_df[variables].mean()\n",
    "\n",
    "# Plot bar charts for each variable, showing means for each cluster and overall mean as red line\n",
    "n_vars = len(variables)\n",
    "n_cols = 2\n",
    "n_rows = int(np.ceil(n_vars / n_cols))\n",
    "\n",
    "fig, axes = plt.subplots(n_rows, n_cols, figsize=(6 * n_cols, 4 * n_rows))\n",
    "axes = axes.flatten()\n",
    "\n",
    "for i, var in enumerate(variables):\n",
    "    means[var].plot(kind=\"bar\", ax=axes[i])\n",
    "    axes[i].axhline(overall_means[var], color='red', linestyle='--', label='Overall mean')\n",
    "    axes[i].set_title(f\"Average {var} per cluster\")\n",
    "    axes[i].set_xlabel(\"Cluster label\")\n",
    "    axes[i].set_ylabel(f\"Average {var}\")\n",
    "    # Annotate the overall mean value\n",
    "    y = overall_means[var]\n",
    "    x = 0.5  # center between clusters for annotation\n",
    "    axes[i].annotate(f\"{y:.2f}\", xy=(x, y), xytext=(x, y), color='red', fontsize=10,\n",
    "                     ha='center', va='bottom', backgroundcolor='white')\n",
    "    axes[i].legend()\n",
    "\n",
    "# Hide any unused subplots\n",
    "for i in range(n_vars, len(axes)):\n",
    "    fig.delaxes(axes[i])\n",
    "\n",
    "plt.tight_layout()\n",
    "plt.show()"
   ]
  },
  {
   "cell_type": "markdown",
   "metadata": {},
   "source": [
    "#### F. Testing statistical significance for features of most deviating cluster vs rest of dataset"
   ]
  },
  {
   "cell_type": "code",
   "execution_count": 19,
   "metadata": {},
   "outputs": [],
   "source": [
    "def t_test_on_cluster(test_df, bias_score, cluster_label):\n",
    "\n",
    "    # Prepare results dictionary\n",
    "    t_test_results = {}\n",
    "\n",
    "    cluster_df = test_df[test_df[\"cluster_label\"] == cluster_label]\n",
    "    rest_df = test_df[test_df[\"cluster_label\"] != cluster_label]\n",
    "\n",
    "    for var in test_df.drop(columns=[bias_score, \"cluster_label\"]).columns:\n",
    "        # values in both partitions\n",
    "        values_cluster = cluster_df[var]\n",
    "        values_rest = rest_df[var]\n",
    "\n",
    "        # means per partition\n",
    "        mean_cluster = cluster_df[var].mean()\n",
    "        mean_rest = rest_df[var].mean()\n",
    "        diff = mean_cluster - mean_rest\n",
    "\n",
    "        # Perform two-sided t-test\n",
    "        t_stat, p_val = ttest_ind(values_cluster, values_rest, equal_var=False)\n",
    "        t_test_results[var] = {''\n",
    "            't_stat': t_stat, \n",
    "            'p_val': p_val,\n",
    "            \"direction\": \"higher\" if diff > 0 else \"lower\"\n",
    "        }\n",
    "\n",
    "    # print if any statistically significant differences in means for most deviating cluster and the rest of the dataset was found or not\n",
    "    if any(res['p_val'] < 0.05 for res in t_test_results.values()):\n",
    "        print(f\"\\033[92mStatistically significant differences in means found:\\033[0m\")\n",
    "    else:\n",
    "        print(f\"\\033[91mNo statistically significant differences in means found.\\033[0m\")\n",
    "\n",
    "    # if significant differences were found, print the variables with their differences\n",
    "    for var, res in t_test_results.items():\n",
    "        if res['p_val'] < 0.05:\n",
    "            direction = res['direction']\n",
    "            if direction == \"higher\":\n",
    "                print(f\"\\033[92m{var}: occur in the most deviating cluster more often than in the rest of the dataset.\\033[0m\")\n",
    "            else:\n",
    "                print(f\"\\033[92m{var}: occur in the most deviating cluster less often than in the rest of the dataset.\\033[0m\")\n",
    "        else:\n",
    "            continue"
   ]
  },
  {
   "cell_type": "code",
   "execution_count": 20,
   "metadata": {},
   "outputs": [
    {
     "name": "stdout",
     "output_type": "stream",
     "text": [
      "\u001b[92mStatistically significant differences in means found:\u001b[0m\n",
      "\u001b[92m#mentions: occur in the most deviating cluster more often than in the rest of the dataset.\u001b[0m\n",
      "\u001b[92mverified: occur in the most deviating cluster less often than in the rest of the dataset.\u001b[0m\n",
      "\u001b[92m#followers: occur in the most deviating cluster less often than in the rest of the dataset.\u001b[0m\n"
     ]
    },
    {
     "name": "stderr",
     "output_type": "stream",
     "text": [
      "/var/folders/v8/64zc34sn3b95klfm660085h80000gn/T/ipykernel_92900/1219081472.py:20: RuntimeWarning: Precision loss occurred in moment calculation due to catastrophic cancellation. This occurs when the data are nearly identical. Results may be unreliable.\n",
      "  t_stat, p_val = ttest_ind(values_cluster, values_rest, equal_var=False)\n"
     ]
    }
   ],
   "source": [
    "# statistical testing results for most deviating cluster (label=0)\n",
    "t_test_on_cluster(test_df, bias_score, cluster_label=0)"
   ]
  },
  {
   "cell_type": "code",
   "execution_count": 21,
   "metadata": {},
   "outputs": [
    {
     "name": "stdout",
     "output_type": "stream",
     "text": [
      "Cluster:  0\n",
      "\u001b[92mStatistically significant differences in means found:\u001b[0m\n",
      "\u001b[92m#mentions: occur in the most deviating cluster more often than in the rest of the dataset.\u001b[0m\n",
      "\u001b[92mverified: occur in the most deviating cluster less often than in the rest of the dataset.\u001b[0m\n",
      "\u001b[92m#followers: occur in the most deviating cluster less often than in the rest of the dataset.\u001b[0m\n",
      "Cluster:  1\n",
      "\u001b[92mStatistically significant differences in means found:\u001b[0m\n",
      "\u001b[92m#mentions: occur in the most deviating cluster less often than in the rest of the dataset.\u001b[0m\n",
      "\u001b[92mverified: occur in the most deviating cluster more often than in the rest of the dataset.\u001b[0m\n",
      "\u001b[92m#followers: occur in the most deviating cluster more often than in the rest of the dataset.\u001b[0m\n"
     ]
    },
    {
     "name": "stderr",
     "output_type": "stream",
     "text": [
      "/var/folders/v8/64zc34sn3b95klfm660085h80000gn/T/ipykernel_92900/1219081472.py:20: RuntimeWarning: Precision loss occurred in moment calculation due to catastrophic cancellation. This occurs when the data are nearly identical. Results may be unreliable.\n",
      "  t_stat, p_val = ttest_ind(values_cluster, values_rest, equal_var=False)\n",
      "/var/folders/v8/64zc34sn3b95klfm660085h80000gn/T/ipykernel_92900/1219081472.py:20: RuntimeWarning: Precision loss occurred in moment calculation due to catastrophic cancellation. This occurs when the data are nearly identical. Results may be unreliable.\n",
      "  t_stat, p_val = ttest_ind(values_cluster, values_rest, equal_var=False)\n"
     ]
    }
   ],
   "source": [
    "# [not in web app]\n",
    "n_cluster = hbac.n_clusters_\n",
    "for i in range(0,n_cluster):\n",
    "    print(\"Cluster: \", i)\n",
    "    t_test_on_cluster(test_df, bias_score, cluster_label=i)"
   ]
  },
  {
   "cell_type": "markdown",
   "metadata": {},
   "source": [
    "#### G. Conclusion\n",
    "\n",
    "**UI text #9**\n",
    "\n",
    "**6. Conclusion**\n",
    "\n",
    "From the above figures and statistical tests, it can be concluded that: \n",
    "\n",
    "[output of cell 21 can be ignored for now]\n",
    "\n",
    "[if p<0.05]\n",
    "\n",
    "The most biased cluster has a statistically significant higher average bias score than the rest of the dataset.\n",
    "\n",
    "[if p>0.05]\n",
    "\n",
    "No statistically significant difference in average bias score between the most biased cluster and the rest of the dataset."
   ]
  },
  {
   "cell_type": "markdown",
   "metadata": {},
   "source": [
    "**7. More information**\n",
    "- [Scientific article](https://arxiv.org/pdf/2502.01713)\n",
    "- [Github repository](https://github.com/NGO-Algorithm-Audit/unsupervised-bias-detection)"
   ]
  }
 ],
 "metadata": {
  "kernelspec": {
   "display_name": "Python 3",
   "language": "python",
   "name": "python3"
  },
  "language_info": {
   "codemirror_mode": {
    "name": "ipython",
    "version": 3
   },
   "file_extension": ".py",
   "mimetype": "text/x-python",
   "name": "python",
   "nbconvert_exporter": "python",
   "pygments_lexer": "ipython3",
   "version": "3.11.9"
  }
 },
 "nbformat": 4,
 "nbformat_minor": 2
}
