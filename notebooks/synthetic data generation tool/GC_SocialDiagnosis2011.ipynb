{
 "cells": [
  {
   "cell_type": "code",
   "execution_count": 1,
   "metadata": {},
   "outputs": [],
   "source": [
    "import warnings\n",
    "import numpy as np\n",
    "import pandas as pd\n",
    "import seaborn as sns\n",
    "from synthpop import MissingDataHandler, DataProcessor, GaussianCopulaMethod\n",
    "from synthpop.metrics import (\n",
    "    MetricsReport,\n",
    "    EfficacyMetrics,\n",
    "    DisclosureProtection\n",
    ")\n",
    "import matplotlib.pyplot as plt\n",
    "from helper_functions import *\n",
    "from matplotlib.colors import LinearSegmentedColormap\n",
    "warnings.filterwarnings('ignore')"
   ]
  },
  {
   "cell_type": "markdown",
   "metadata": {},
   "source": [
    "### Load data and prepare data"
   ]
  },
  {
   "cell_type": "code",
   "execution_count": 2,
   "metadata": {},
   "outputs": [
    {
     "name": "stdout",
     "output_type": "stream",
     "text": [
      "(5000, 6)\n",
      "Index(['sex', 'age', 'marital', 'income', 'ls', 'smoke'], dtype='object')\n"
     ]
    },
    {
     "data": {
      "text/html": [
       "<div>\n",
       "<style scoped>\n",
       "    .dataframe tbody tr th:only-of-type {\n",
       "        vertical-align: middle;\n",
       "    }\n",
       "\n",
       "    .dataframe tbody tr th {\n",
       "        vertical-align: top;\n",
       "    }\n",
       "\n",
       "    .dataframe thead th {\n",
       "        text-align: right;\n",
       "    }\n",
       "</style>\n",
       "<table border=\"1\" class=\"dataframe\">\n",
       "  <thead>\n",
       "    <tr style=\"text-align: right;\">\n",
       "      <th></th>\n",
       "      <th>sex</th>\n",
       "      <th>age</th>\n",
       "      <th>marital</th>\n",
       "      <th>income</th>\n",
       "      <th>ls</th>\n",
       "      <th>smoke</th>\n",
       "    </tr>\n",
       "  </thead>\n",
       "  <tbody>\n",
       "    <tr>\n",
       "      <th>0</th>\n",
       "      <td>FEMALE</td>\n",
       "      <td>57</td>\n",
       "      <td>MARRIED</td>\n",
       "      <td>800.0</td>\n",
       "      <td>PLEASED</td>\n",
       "      <td>NO</td>\n",
       "    </tr>\n",
       "    <tr>\n",
       "      <th>1</th>\n",
       "      <td>MALE</td>\n",
       "      <td>20</td>\n",
       "      <td>SINGLE</td>\n",
       "      <td>350.0</td>\n",
       "      <td>MOSTLY SATISFIED</td>\n",
       "      <td>NO</td>\n",
       "    </tr>\n",
       "    <tr>\n",
       "      <th>2</th>\n",
       "      <td>FEMALE</td>\n",
       "      <td>18</td>\n",
       "      <td>SINGLE</td>\n",
       "      <td>NaN</td>\n",
       "      <td>PLEASED</td>\n",
       "      <td>NO</td>\n",
       "    </tr>\n",
       "    <tr>\n",
       "      <th>3</th>\n",
       "      <td>FEMALE</td>\n",
       "      <td>78</td>\n",
       "      <td>WIDOWED</td>\n",
       "      <td>900.0</td>\n",
       "      <td>MIXED</td>\n",
       "      <td>NO</td>\n",
       "    </tr>\n",
       "    <tr>\n",
       "      <th>4</th>\n",
       "      <td>FEMALE</td>\n",
       "      <td>54</td>\n",
       "      <td>MARRIED</td>\n",
       "      <td>1500.0</td>\n",
       "      <td>MOSTLY SATISFIED</td>\n",
       "      <td>YES</td>\n",
       "    </tr>\n",
       "  </tbody>\n",
       "</table>\n",
       "</div>"
      ],
      "text/plain": [
       "      sex  age  marital  income                ls smoke\n",
       "0  FEMALE   57  MARRIED   800.0           PLEASED    NO\n",
       "1    MALE   20   SINGLE   350.0  MOSTLY SATISFIED    NO\n",
       "2  FEMALE   18   SINGLE     NaN           PLEASED    NO\n",
       "3  FEMALE   78  WIDOWED   900.0             MIXED    NO\n",
       "4  FEMALE   54  MARRIED  1500.0  MOSTLY SATISFIED   YES"
      ]
     },
     "metadata": {},
     "output_type": "display_data"
    }
   ],
   "source": [
    "df = pd.read_csv('../../datasets/social diagnosis/SocialDiagnosis2011.csv', delimiter=';', index_col=False)\n",
    "print(df.shape)\n",
    "print(df.columns)\n",
    "display(df.head())"
   ]
  },
  {
   "cell_type": "markdown",
   "metadata": {},
   "source": [
    "**UI text #1**\n",
    "\n",
    "The [Social Diagnosis 2011*](https://search.r-project.org/CRAN/refmans/synthpop/html/SD2011.html) dataset is used as a demo. Synthetic data will be generated for the following columns: \n",
    "\n",
    "- sex: sex of a person\n",
    "- age: age of a person\n",
    "- marital: marital status\n",
    "- income: personal monthly net income\n",
    "- ls: perception of life as a whole\n",
    "- smoke: smoking cigarettes\n",
    "\n",
    "Gaussian Copula will be used to evaluate the distribution and correlation differences between the real and synthetic data.\n",
    "\n",
    "*The original paper can be found [here](https://ce.vizja.pl/en/issues/volume/5/issue/3#art254)."
   ]
  },
  {
   "cell_type": "markdown",
   "metadata": {},
   "source": [
    "### 0. Preview of data"
   ]
  },
  {
   "cell_type": "code",
   "execution_count": 3,
   "metadata": {},
   "outputs": [
    {
     "data": {
      "text/html": [
       "<div>\n",
       "<style scoped>\n",
       "    .dataframe tbody tr th:only-of-type {\n",
       "        vertical-align: middle;\n",
       "    }\n",
       "\n",
       "    .dataframe tbody tr th {\n",
       "        vertical-align: top;\n",
       "    }\n",
       "\n",
       "    .dataframe thead th {\n",
       "        text-align: right;\n",
       "    }\n",
       "</style>\n",
       "<table border=\"1\" class=\"dataframe\">\n",
       "  <thead>\n",
       "    <tr style=\"text-align: right;\">\n",
       "      <th></th>\n",
       "      <th>sex</th>\n",
       "      <th>age</th>\n",
       "      <th>marital</th>\n",
       "      <th>income</th>\n",
       "      <th>ls</th>\n",
       "      <th>smoke</th>\n",
       "    </tr>\n",
       "  </thead>\n",
       "  <tbody>\n",
       "    <tr>\n",
       "      <th>0</th>\n",
       "      <td>FEMALE</td>\n",
       "      <td>57</td>\n",
       "      <td>MARRIED</td>\n",
       "      <td>800.0</td>\n",
       "      <td>PLEASED</td>\n",
       "      <td>NO</td>\n",
       "    </tr>\n",
       "    <tr>\n",
       "      <th>1</th>\n",
       "      <td>MALE</td>\n",
       "      <td>20</td>\n",
       "      <td>SINGLE</td>\n",
       "      <td>350.0</td>\n",
       "      <td>MOSTLY SATISFIED</td>\n",
       "      <td>NO</td>\n",
       "    </tr>\n",
       "    <tr>\n",
       "      <th>2</th>\n",
       "      <td>FEMALE</td>\n",
       "      <td>18</td>\n",
       "      <td>SINGLE</td>\n",
       "      <td>NaN</td>\n",
       "      <td>PLEASED</td>\n",
       "      <td>NO</td>\n",
       "    </tr>\n",
       "    <tr>\n",
       "      <th>3</th>\n",
       "      <td>FEMALE</td>\n",
       "      <td>78</td>\n",
       "      <td>WIDOWED</td>\n",
       "      <td>900.0</td>\n",
       "      <td>MIXED</td>\n",
       "      <td>NO</td>\n",
       "    </tr>\n",
       "    <tr>\n",
       "      <th>4</th>\n",
       "      <td>FEMALE</td>\n",
       "      <td>54</td>\n",
       "      <td>MARRIED</td>\n",
       "      <td>1500.0</td>\n",
       "      <td>MOSTLY SATISFIED</td>\n",
       "      <td>YES</td>\n",
       "    </tr>\n",
       "  </tbody>\n",
       "</table>\n",
       "</div>"
      ],
      "text/plain": [
       "      sex  age  marital  income                ls smoke\n",
       "0  FEMALE   57  MARRIED   800.0           PLEASED    NO\n",
       "1    MALE   20   SINGLE   350.0  MOSTLY SATISFIED    NO\n",
       "2  FEMALE   18   SINGLE     NaN           PLEASED    NO\n",
       "3  FEMALE   78  WIDOWED   900.0             MIXED    NO\n",
       "4  FEMALE   54  MARRIED  1500.0  MOSTLY SATISFIED   YES"
      ]
     },
     "execution_count": 3,
     "metadata": {},
     "output_type": "execute_result"
    }
   ],
   "source": [
    "# dataset\n",
    "df.head()"
   ]
  },
  {
   "cell_type": "code",
   "execution_count": 4,
   "metadata": {},
   "outputs": [
    {
     "name": "stdout",
     "output_type": "stream",
     "text": [
      "sex          0\n",
      "age          0\n",
      "marital      9\n",
      "income     683\n",
      "ls           8\n",
      "smoke       10\n",
      "dtype: int64\n"
     ]
    }
   ],
   "source": [
    "print(df.isnull().sum())"
   ]
  },
  {
   "cell_type": "markdown",
   "metadata": {},
   "source": [
    "### 1. Data types detection"
   ]
  },
  {
   "cell_type": "markdown",
   "metadata": {},
   "source": [
    "**UI text #2**\n",
    "\n",
    "The following data types are detected:\n",
    "\n",
    "[output]\n",
    "\n",
    "If the detected data types are incorrect, please change this locally in the source dataset before attaching it to the web app."
   ]
  },
  {
   "cell_type": "code",
   "execution_count": 5,
   "metadata": {},
   "outputs": [
    {
     "name": "stdout",
     "output_type": "stream",
     "text": [
      "Column Data Types: {'sex': 'categorical', 'age': 'numerical', 'marital': 'categorical', 'income': 'numerical', 'ls': 'categorical', 'smoke': 'categorical'}\n"
     ]
    }
   ],
   "source": [
    "md_handler = MissingDataHandler()\n",
    "\n",
    "# Check the data types\n",
    "column_dtypes = md_handler.get_column_dtypes(df)\n",
    "print(\"Column Data Types:\", column_dtypes)"
   ]
  },
  {
   "cell_type": "markdown",
   "metadata": {},
   "source": [
    "### 2. Handling missing data"
   ]
  },
  {
   "cell_type": "markdown",
   "metadata": {},
   "source": [
    "**UI text #3**\n",
    "\n",
    "For the following columns, the missing data type is:\n",
    "\n",
    "{{ dynamic\n",
    "\n",
    "- sex: MAR\n",
    "- race1: MAR\n",
    "\n",
    "}}\n",
    "\n",
    "For Missing At Random (MAR) and Missing Not At Random (MNAR) data, we recommend to impute the missing data. For Missing Completely At Random (MCAR), we recommend to remove the missing data. See the info box for more information. [i]\n",
    "\n",
    "[demo text] In this demo CART is used, the missing data is therefore imputed. When using Gaussian Copula, the user can choose whether the missing data is removed or imputed, depending on the type of missing data.\n",
    "\n",
    "[i] _info box:_\n",
    "\n",
    "MCAR, MAR, and MNAR are terms used to describe different mechanisms of missing data:\n",
    "\n",
    "1. **MCAR (Missing Completely At Random)**:\n",
    "- The probability of data being missing is completely independent of both observed and unobserved data. \n",
    "- There is no systematic pattern to the missingness.\n",
    "- Example: A survey respondent accidentally skips a question due to a printing error.\n",
    "- Recommendation: remove missing data.\n",
    "\n",
    "2. **MAR (Missing At Random)**:\n",
    "- The probability of data being missing is related to the observed data but not the missing data itself.\n",
    "- The missingness can be predicted by other variables in the dataset.\n",
    "- Example: Students' test scores are missing, but the missingness is related to their attendance records.\n",
    "- Recommendation: impute missing data.\n",
    "\n",
    "3. **MNAR (Missing Not At Random)**:\n",
    "- The probability of data being missing is related to the missing data itself. \n",
    "- There is a systematic pattern to the missingness that is related to the unobserved data.\n",
    "- Example: Patients with more severe symptoms are less likely to report their symptoms, leading to missing data that is related to the severity of the symptoms.\n",
    "- Recommendation: impute missing data."
   ]
  },
  {
   "cell_type": "code",
   "execution_count": 6,
   "metadata": {},
   "outputs": [
    {
     "name": "stdout",
     "output_type": "stream",
     "text": [
      "Detected Missingness Type: {'marital': 'MAR', 'income': 'MAR', 'ls': 'MAR', 'smoke': 'MAR'}\n"
     ]
    }
   ],
   "source": [
    "# Detect missingness\n",
    "missingness_dict = md_handler.detect_missingness(df)\n",
    "print(\"Detected Missingness Type:\", missingness_dict)"
   ]
  },
  {
   "cell_type": "code",
   "execution_count": 7,
   "metadata": {},
   "outputs": [
    {
     "name": "stdout",
     "output_type": "stream",
     "text": [
      "sex        0\n",
      "age        0\n",
      "marital    0\n",
      "income     0\n",
      "ls         0\n",
      "smoke      0\n",
      "dtype: int64\n"
     ]
    }
   ],
   "source": [
    "real_df = md_handler.apply_imputation(df, missingness_dict)\n",
    "\n",
    "print(real_df.isnull().sum())"
   ]
  },
  {
   "cell_type": "markdown",
   "metadata": {},
   "source": [
    "### [no section] Pre-processing data"
   ]
  },
  {
   "cell_type": "code",
   "execution_count": 8,
   "metadata": {},
   "outputs": [
    {
     "name": "stdout",
     "output_type": "stream",
     "text": [
      "Processed Data:\n"
     ]
    },
    {
     "data": {
      "text/html": [
       "<div>\n",
       "<style scoped>\n",
       "    .dataframe tbody tr th:only-of-type {\n",
       "        vertical-align: middle;\n",
       "    }\n",
       "\n",
       "    .dataframe tbody tr th {\n",
       "        vertical-align: top;\n",
       "    }\n",
       "\n",
       "    .dataframe thead th {\n",
       "        text-align: right;\n",
       "    }\n",
       "</style>\n",
       "<table border=\"1\" class=\"dataframe\">\n",
       "  <thead>\n",
       "    <tr style=\"text-align: right;\">\n",
       "      <th></th>\n",
       "      <th>sex</th>\n",
       "      <th>age</th>\n",
       "      <th>marital</th>\n",
       "      <th>income</th>\n",
       "      <th>ls</th>\n",
       "      <th>smoke</th>\n",
       "    </tr>\n",
       "  </thead>\n",
       "  <tbody>\n",
       "    <tr>\n",
       "      <th>0</th>\n",
       "      <td>0</td>\n",
       "      <td>57.0</td>\n",
       "      <td>3</td>\n",
       "      <td>800.000000</td>\n",
       "      <td>4</td>\n",
       "      <td>0</td>\n",
       "    </tr>\n",
       "    <tr>\n",
       "      <th>1</th>\n",
       "      <td>1</td>\n",
       "      <td>20.0</td>\n",
       "      <td>4</td>\n",
       "      <td>350.000000</td>\n",
       "      <td>3</td>\n",
       "      <td>0</td>\n",
       "    </tr>\n",
       "    <tr>\n",
       "      <th>2</th>\n",
       "      <td>0</td>\n",
       "      <td>18.0</td>\n",
       "      <td>4</td>\n",
       "      <td>1411.093352</td>\n",
       "      <td>4</td>\n",
       "      <td>0</td>\n",
       "    </tr>\n",
       "    <tr>\n",
       "      <th>3</th>\n",
       "      <td>0</td>\n",
       "      <td>78.0</td>\n",
       "      <td>5</td>\n",
       "      <td>900.000000</td>\n",
       "      <td>1</td>\n",
       "      <td>0</td>\n",
       "    </tr>\n",
       "    <tr>\n",
       "      <th>4</th>\n",
       "      <td>0</td>\n",
       "      <td>54.0</td>\n",
       "      <td>3</td>\n",
       "      <td>1500.000000</td>\n",
       "      <td>3</td>\n",
       "      <td>1</td>\n",
       "    </tr>\n",
       "  </tbody>\n",
       "</table>\n",
       "</div>"
      ],
      "text/plain": [
       "   sex   age  marital       income  ls  smoke\n",
       "0    0  57.0        3   800.000000   4      0\n",
       "1    1  20.0        4   350.000000   3      0\n",
       "2    0  18.0        4  1411.093352   4      0\n",
       "3    0  78.0        5   900.000000   1      0\n",
       "4    0  54.0        3  1500.000000   3      1"
      ]
     },
     "metadata": {},
     "output_type": "display_data"
    }
   ],
   "source": [
    "# Instantiate the DataProcessor with the metadata\n",
    "metadata = column_dtypes\n",
    "processor = DataProcessor(metadata)\n",
    "\n",
    "# Preprocess the data: transforms raw data into a numerical format\n",
    "processed_data = processor.preprocess(real_df)\n",
    "print(\"Processed Data:\")\n",
    "display(processed_data.head())"
   ]
  },
  {
   "cell_type": "markdown",
   "metadata": {},
   "source": [
    "### 3. Synthesized: Gaussian Copula"
   ]
  },
  {
   "cell_type": "code",
   "execution_count": null,
   "metadata": {},
   "outputs": [
    {
     "name": "stderr",
     "output_type": "stream",
     "text": [
      "INFO:copulas.multivariate.gaussian:Fitting GaussianMultivariate(distribution=\"{'sex': <class 'copulas.univariate.beta.BetaUnivariate'>, 'age': <class 'copulas.univariate.beta.BetaUnivariate'>, 'marital': <class 'copulas.univariate.beta.BetaUnivariate'>, 'income': <class 'copulas.univariate.beta.BetaUnivariate'>, 'ls': <class 'copulas.univariate.beta.BetaUnivariate'>, 'smoke': <class 'copulas.univariate.beta.BetaUnivariate'>}\")\n"
     ]
    }
   ],
   "source": [
    "# Instantiate and fit the GC synthesized\n",
    "GC = GaussianCopulaMethod(metadata)\n",
    "GC.fit(processed_data)"
   ]
  },
  {
   "cell_type": "code",
   "execution_count": 10,
   "metadata": {},
   "outputs": [
    {
     "name": "stdout",
     "output_type": "stream",
     "text": [
      "Synthetic Processed Data (in numerical space):\n"
     ]
    },
    {
     "data": {
      "text/html": [
       "<div>\n",
       "<style scoped>\n",
       "    .dataframe tbody tr th:only-of-type {\n",
       "        vertical-align: middle;\n",
       "    }\n",
       "\n",
       "    .dataframe tbody tr th {\n",
       "        vertical-align: top;\n",
       "    }\n",
       "\n",
       "    .dataframe thead th {\n",
       "        text-align: right;\n",
       "    }\n",
       "</style>\n",
       "<table border=\"1\" class=\"dataframe\">\n",
       "  <thead>\n",
       "    <tr style=\"text-align: right;\">\n",
       "      <th></th>\n",
       "      <th>sex</th>\n",
       "      <th>age</th>\n",
       "      <th>marital</th>\n",
       "      <th>income</th>\n",
       "      <th>ls</th>\n",
       "      <th>smoke</th>\n",
       "    </tr>\n",
       "  </thead>\n",
       "  <tbody>\n",
       "    <tr>\n",
       "      <th>0</th>\n",
       "      <td>2.495253e-01</td>\n",
       "      <td>57.888906</td>\n",
       "      <td>4.822923</td>\n",
       "      <td>2245.583240</td>\n",
       "      <td>3.685378</td>\n",
       "      <td>0.000254</td>\n",
       "    </tr>\n",
       "    <tr>\n",
       "      <th>1</th>\n",
       "      <td>6.222039e-08</td>\n",
       "      <td>16.883573</td>\n",
       "      <td>3.009210</td>\n",
       "      <td>609.212215</td>\n",
       "      <td>2.380589</td>\n",
       "      <td>0.000254</td>\n",
       "    </tr>\n",
       "    <tr>\n",
       "      <th>2</th>\n",
       "      <td>1.868613e-02</td>\n",
       "      <td>32.866790</td>\n",
       "      <td>3.150079</td>\n",
       "      <td>2172.891178</td>\n",
       "      <td>2.505735</td>\n",
       "      <td>0.000254</td>\n",
       "    </tr>\n",
       "    <tr>\n",
       "      <th>3</th>\n",
       "      <td>3.036400e-01</td>\n",
       "      <td>73.895129</td>\n",
       "      <td>3.722057</td>\n",
       "      <td>54.478990</td>\n",
       "      <td>2.865517</td>\n",
       "      <td>0.000254</td>\n",
       "    </tr>\n",
       "    <tr>\n",
       "      <th>4</th>\n",
       "      <td>1.508967e-05</td>\n",
       "      <td>20.636102</td>\n",
       "      <td>3.342714</td>\n",
       "      <td>22.020638</td>\n",
       "      <td>4.414676</td>\n",
       "      <td>0.000254</td>\n",
       "    </tr>\n",
       "  </tbody>\n",
       "</table>\n",
       "</div>"
      ],
      "text/plain": [
       "            sex        age   marital       income        ls     smoke\n",
       "0  2.495253e-01  57.888906  4.822923  2245.583240  3.685378  0.000254\n",
       "1  6.222039e-08  16.883573  3.009210   609.212215  2.380589  0.000254\n",
       "2  1.868613e-02  32.866790  3.150079  2172.891178  2.505735  0.000254\n",
       "3  3.036400e-01  73.895129  3.722057    54.478990  2.865517  0.000254\n",
       "4  1.508967e-05  20.636102  3.342714    22.020638  4.414676  0.000254"
      ]
     },
     "metadata": {},
     "output_type": "display_data"
    }
   ],
   "source": [
    "# For prediction, we might use the same data (or new preprocessed data)\n",
    "synthetic_processed = GC.sample(5000)\n",
    "print(\"Synthetic Processed Data (in numerical space):\")\n",
    "display(synthetic_processed.head())"
   ]
  },
  {
   "cell_type": "markdown",
   "metadata": {},
   "source": [
    "**UI text #4**\n",
    "\n",
    "{n_synth_data} synthetic data points are generated using Gaussian copula (GC). \n",
    "\n",
    "GC works in two main steps:\n",
    "1. The real data is transformed into a uniform distribution. Correlations between variables are modeled using a multivariate normal distribution (the *Gaussian copula*);\n",
    "2. Synthetic data is created by sampling from this Gaussian copula and transforming the samples back to the original data distributions."
   ]
  },
  {
   "cell_type": "markdown",
   "metadata": {},
   "source": [
    "### [no section] Post-processing synthetic data"
   ]
  },
  {
   "cell_type": "code",
   "execution_count": 11,
   "metadata": {},
   "outputs": [
    {
     "ename": "ValueError",
     "evalue": "y contains previously unseen labels: [6 7]",
     "output_type": "error",
     "traceback": [
      "\u001b[0;31m---------------------------------------------------------------------------\u001b[0m",
      "\u001b[0;31mValueError\u001b[0m                                Traceback (most recent call last)",
      "Cell \u001b[0;32mIn[11], line 2\u001b[0m\n\u001b[1;32m      1\u001b[0m \u001b[38;5;66;03m# Postprocess the synthetic data back to the original format\u001b[39;00m\n\u001b[0;32m----> 2\u001b[0m synthetic_df \u001b[38;5;241m=\u001b[39m \u001b[43mprocessor\u001b[49m\u001b[38;5;241;43m.\u001b[39;49m\u001b[43mpostprocess\u001b[49m\u001b[43m(\u001b[49m\u001b[43msynthetic_processed\u001b[49m\u001b[43m)\u001b[49m\n\u001b[1;32m      3\u001b[0m \u001b[38;5;28mprint\u001b[39m(\u001b[38;5;124m\"\u001b[39m\u001b[38;5;124mSynthetic Data in Original Format:\u001b[39m\u001b[38;5;124m\"\u001b[39m)\n\u001b[1;32m      4\u001b[0m display(synthetic_df\u001b[38;5;241m.\u001b[39mhead())\n",
      "File \u001b[0;32m/opt/homebrew/lib/python3.11/site-packages/synthpop/processor/data_processor.py:86\u001b[0m, in \u001b[0;36mDataProcessor.postprocess\u001b[0;34m(self, synthetic_data)\u001b[0m\n\u001b[1;32m     84\u001b[0m \u001b[38;5;28;01mif\u001b[39;00m dtype \u001b[38;5;241m==\u001b[39m \u001b[38;5;124m\"\u001b[39m\u001b[38;5;124mcategorical\u001b[39m\u001b[38;5;124m\"\u001b[39m \u001b[38;5;129;01mand\u001b[39;00m col \u001b[38;5;129;01min\u001b[39;00m \u001b[38;5;28mself\u001b[39m\u001b[38;5;241m.\u001b[39mencoders:\n\u001b[1;32m     85\u001b[0m     encoder \u001b[38;5;241m=\u001b[39m \u001b[38;5;28mself\u001b[39m\u001b[38;5;241m.\u001b[39mencoders[col]\n\u001b[0;32m---> 86\u001b[0m     synthetic_data[col] \u001b[38;5;241m=\u001b[39m \u001b[38;5;28;43mself\u001b[39;49m\u001b[38;5;241;43m.\u001b[39;49m\u001b[43m_decode_categorical\u001b[49m\u001b[43m(\u001b[49m\u001b[43msynthetic_data\u001b[49m\u001b[43m[\u001b[49m\u001b[43mcol\u001b[49m\u001b[43m]\u001b[49m\u001b[43m,\u001b[49m\u001b[43m \u001b[49m\u001b[43mencoder\u001b[49m\u001b[43m)\u001b[49m\n\u001b[1;32m     88\u001b[0m \u001b[38;5;28;01melif\u001b[39;00m dtype \u001b[38;5;241m==\u001b[39m \u001b[38;5;124m\"\u001b[39m\u001b[38;5;124mnumerical\u001b[39m\u001b[38;5;124m\"\u001b[39m \u001b[38;5;129;01mand\u001b[39;00m col \u001b[38;5;129;01min\u001b[39;00m \u001b[38;5;28mself\u001b[39m\u001b[38;5;241m.\u001b[39mscalers:\n\u001b[1;32m     89\u001b[0m     scaler \u001b[38;5;241m=\u001b[39m \u001b[38;5;28mself\u001b[39m\u001b[38;5;241m.\u001b[39mscalers[col]\n",
      "File \u001b[0;32m/opt/homebrew/lib/python3.11/site-packages/synthpop/processor/data_processor.py:129\u001b[0m, in \u001b[0;36mDataProcessor._decode_categorical\u001b[0;34m(self, series, encoder)\u001b[0m\n\u001b[1;32m    127\u001b[0m \u001b[38;5;250m\u001b[39m\u001b[38;5;124;03m\"\"\"Decode categorical columns.\"\"\"\u001b[39;00m\n\u001b[1;32m    128\u001b[0m \u001b[38;5;28;01mif\u001b[39;00m \u001b[38;5;28misinstance\u001b[39m(encoder, LabelEncoder):\n\u001b[0;32m--> 129\u001b[0m     \u001b[38;5;28;01mreturn\u001b[39;00m \u001b[43mencoder\u001b[49m\u001b[38;5;241;43m.\u001b[39;49m\u001b[43minverse_transform\u001b[49m\u001b[43m(\u001b[49m\u001b[43mseries\u001b[49m\u001b[38;5;241;43m.\u001b[39;49m\u001b[43mastype\u001b[49m\u001b[43m(\u001b[49m\u001b[38;5;28;43mint\u001b[39;49m\u001b[43m)\u001b[49m\u001b[43m)\u001b[49m\n\u001b[1;32m    130\u001b[0m \u001b[38;5;28;01melif\u001b[39;00m \u001b[38;5;28misinstance\u001b[39m(encoder, OneHotEncoder):\n\u001b[1;32m    131\u001b[0m     category_index \u001b[38;5;241m=\u001b[39m np\u001b[38;5;241m.\u001b[39margmax(series\u001b[38;5;241m.\u001b[39mvalues, axis\u001b[38;5;241m=\u001b[39m\u001b[38;5;241m1\u001b[39m)\n",
      "File \u001b[0;32m/opt/homebrew/lib/python3.11/site-packages/sklearn/preprocessing/_label.py:160\u001b[0m, in \u001b[0;36mLabelEncoder.inverse_transform\u001b[0;34m(self, y)\u001b[0m\n\u001b[1;32m    158\u001b[0m diff \u001b[38;5;241m=\u001b[39m np\u001b[38;5;241m.\u001b[39msetdiff1d(y, np\u001b[38;5;241m.\u001b[39marange(\u001b[38;5;28mlen\u001b[39m(\u001b[38;5;28mself\u001b[39m\u001b[38;5;241m.\u001b[39mclasses_)))\n\u001b[1;32m    159\u001b[0m \u001b[38;5;28;01mif\u001b[39;00m \u001b[38;5;28mlen\u001b[39m(diff):\n\u001b[0;32m--> 160\u001b[0m     \u001b[38;5;28;01mraise\u001b[39;00m \u001b[38;5;167;01mValueError\u001b[39;00m(\u001b[38;5;124m\"\u001b[39m\u001b[38;5;124my contains previously unseen labels: \u001b[39m\u001b[38;5;132;01m%s\u001b[39;00m\u001b[38;5;124m\"\u001b[39m \u001b[38;5;241m%\u001b[39m \u001b[38;5;28mstr\u001b[39m(diff))\n\u001b[1;32m    161\u001b[0m y \u001b[38;5;241m=\u001b[39m np\u001b[38;5;241m.\u001b[39masarray(y)\n\u001b[1;32m    162\u001b[0m \u001b[38;5;28;01mreturn\u001b[39;00m \u001b[38;5;28mself\u001b[39m\u001b[38;5;241m.\u001b[39mclasses_[y]\n",
      "\u001b[0;31mValueError\u001b[0m: y contains previously unseen labels: [6 7]"
     ]
    }
   ],
   "source": [
    "# Postprocess the synthetic data back to the original format\n",
    "synthetic_df = processor.postprocess(synthetic_processed)\n",
    "print(\"Synthetic Data in Original Format:\")\n",
    "display(synthetic_df.head())"
   ]
  },
  {
   "cell_type": "markdown",
   "metadata": {},
   "source": []
  }
 ],
 "metadata": {
  "kernelspec": {
   "display_name": "Python 3",
   "language": "python",
   "name": "python3"
  },
  "language_info": {
   "codemirror_mode": {
    "name": "ipython",
    "version": 3
   },
   "file_extension": ".py",
   "mimetype": "text/x-python",
   "name": "python",
   "nbconvert_exporter": "python",
   "pygments_lexer": "ipython3",
   "version": "3.11.9"
  }
 },
 "nbformat": 4,
 "nbformat_minor": 2
}
